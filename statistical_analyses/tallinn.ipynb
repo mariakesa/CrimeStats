{
 "cells": [
  {
   "cell_type": "code",
   "execution_count": null,
   "metadata": {},
   "outputs": [],
   "source": [
    "'''\n",
    "Looking at data longitudinally-- hypothesis testing.\n",
    "Monthly time series.\n",
    "Comparison between years.\n",
    "Exponential, Poisson. \n",
    "Tail probabilities.\n",
    "Counting Grids, LDA--> counts for different crimes can be\n",
    "vectorized. \n",
    "Temporal scales--> can particular phenomena be observed at\n",
    "particular scales. \n",
    "'''\n",
    "\n",
    "'''\n",
    "Can we predict the distribution of crime. Predict on a held-out dataset.\n",
    "'''"
   ]
  }
 ],
 "metadata": {
  "language_info": {
   "name": "python"
  }
 },
 "nbformat": 4,
 "nbformat_minor": 2
}
